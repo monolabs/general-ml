{
 "cells": [
  {
   "cell_type": "code",
   "execution_count": 1,
   "metadata": {},
   "outputs": [],
   "source": [
    "import sys\n",
    "sys.path.append('../')"
   ]
  },
  {
   "cell_type": "code",
   "execution_count": 11,
   "metadata": {},
   "outputs": [],
   "source": [
    "from simulate import simulate_surgeries\n",
    "from util import *\n",
    "import seaborn as sns\n",
    "import lightgbm as lgbm\n",
    "import joblib"
   ]
  },
  {
   "cell_type": "code",
   "execution_count": 3,
   "metadata": {},
   "outputs": [],
   "source": [
    "# # simulation\n",
    "# df = simulate_surgeries(70000)\n",
    "# continuous_columns = ['age', 'surgery_complexity']\n",
    "# ordinal_columns = ['gender', 'race', 'marital_status', 'specialties']\n",
    "# date_columns = ['scheduled_date']\n",
    "# target_column = 'is_cancelled'\n",
    "\n",
    "# dummy dataset\n",
    "df = sns.load_dataset('titanic')\n",
    "continuous_columns = ['age', 'fare', 'sibsp', 'parch']\n",
    "ordinal_columns = ['sex', 'class']\n",
    "date_columns = []\n",
    "target_column = 'survived'\n",
    "\n",
    "# optimization params\n",
    "hyperparams_stepwise_groups = [\n",
    "    ['learning_rate'],\n",
    "    ['lambda_l1'], \n",
    "    ['lambda_l2'], \n",
    "    ['num_leaves'], \n",
    "    ['feature_fraction'], \n",
    "    ['bagging_fraction'], \n",
    "    ['bagging_freq'],\n",
    "    ['min_child_samples'],\n",
    "]\n",
    "fixed_params={\n",
    "        'verbosity': -1,\n",
    "        'objective': 'binary',\n",
    "        'is_unbalance': True,\n",
    "        'n_estimators': 1000\n",
    "    }\n",
    "save_dir = '../runs/test_run'"
   ]
  },
  {
   "cell_type": "code",
   "execution_count": 9,
   "metadata": {},
   "outputs": [
    {
     "name": "stderr",
     "output_type": "stream",
     "text": [
      "[I 2024-04-12 16:01:25,798] A new study created in memory with name: no-name-134358d8-9bee-4efb-bce9-e5e727ebdbe5\n"
     ]
    },
    {
     "name": "stdout",
     "output_type": "stream",
     "text": [
      "optimizing group: ['learning_rate']\n"
     ]
    },
    {
     "name": "stderr",
     "output_type": "stream",
     "text": [
      "[I 2024-04-12 16:01:26,288] Trial 0 finished with value: 0.859107618098913 and parameters: {'learning_rate': 0.1}. Best is trial 0 with value: 0.859107618098913.\n",
      "[I 2024-04-12 16:01:26,869] Trial 1 finished with value: 0.8663487120198916 and parameters: {'learning_rate': 0.044303752452182654}. Best is trial 1 with value: 0.8663487120198916.\n",
      "[I 2024-04-12 16:01:27,369] Trial 2 finished with value: 0.8572485809786075 and parameters: {'learning_rate': 0.13981961408994045}. Best is trial 1 with value: 0.8663487120198916.\n",
      "[I 2024-04-12 16:01:27,892] Trial 3 finished with value: 0.8637218888715875 and parameters: {'learning_rate': 0.06431172050131989}. Best is trial 1 with value: 0.8663487120198916.\n",
      "[I 2024-04-12 16:01:28,439] Trial 4 finished with value: 0.8646494005732256 and parameters: {'learning_rate': 0.0431171005868549}. Best is trial 1 with value: 0.8663487120198916.\n",
      "[I 2024-04-12 16:01:28,933] Trial 5 finished with value: 0.8588957834285036 and parameters: {'learning_rate': 0.018662266976517967}. Best is trial 1 with value: 0.8663487120198916.\n",
      "[I 2024-04-12 16:01:29,462] Trial 6 finished with value: 0.864092771967546 and parameters: {'learning_rate': 0.08663279761354557}. Best is trial 1 with value: 0.8663487120198916.\n",
      "[I 2024-04-12 16:01:29,953] Trial 7 finished with value: 0.8604732097719967 and parameters: {'learning_rate': 0.020547625125911337}. Best is trial 1 with value: 0.8663487120198916.\n",
      "[I 2024-04-12 16:01:30,444] Trial 8 finished with value: 0.8467490456312344 and parameters: {'learning_rate': 0.4734989304499475}. Best is trial 1 with value: 0.8663487120198916.\n",
      "[I 2024-04-12 16:01:30,997] Trial 9 finished with value: 0.8420426762284853 and parameters: {'learning_rate': 0.7780155576901415}. Best is trial 1 with value: 0.8663487120198916.\n",
      "[I 2024-04-12 16:01:31,007] A new study created in memory with name: no-name-d198e7fa-5884-4797-831b-44b2f3b27274\n"
     ]
    },
    {
     "name": "stdout",
     "output_type": "stream",
     "text": [
      "best params: {'verbosity': -1, 'objective': 'binary', 'is_unbalance': True, 'n_estimators': 100, 'learning_rate': 0.044303752452182654}, best score: 0.8663487120198916\n",
      "optimizing group: ['num_leaves']\n"
     ]
    },
    {
     "name": "stderr",
     "output_type": "stream",
     "text": [
      "[I 2024-04-12 16:01:31,554] Trial 0 finished with value: 0.8663487120198916 and parameters: {'num_leaves': 31}. Best is trial 0 with value: 0.8663487120198916.\n",
      "[I 2024-04-12 16:01:32,098] Trial 1 finished with value: 0.8663487120198916 and parameters: {'num_leaves': 144}. Best is trial 0 with value: 0.8663487120198916.\n",
      "[I 2024-04-12 16:01:32,770] Trial 2 finished with value: 0.8663487120198916 and parameters: {'num_leaves': 186}. Best is trial 0 with value: 0.8663487120198916.\n",
      "[I 2024-04-12 16:01:33,333] Trial 3 finished with value: 0.8663487120198916 and parameters: {'num_leaves': 158}. Best is trial 0 with value: 0.8663487120198916.\n",
      "[I 2024-04-12 16:01:33,889] Trial 4 finished with value: 0.8663487120198916 and parameters: {'num_leaves': 143}. Best is trial 0 with value: 0.8663487120198916.\n",
      "[I 2024-04-12 16:01:34,470] Trial 5 finished with value: 0.8663487120198916 and parameters: {'num_leaves': 113}. Best is trial 0 with value: 0.8663487120198916.\n",
      "[I 2024-04-12 16:01:35,058] Trial 6 finished with value: 0.8663487120198916 and parameters: {'num_leaves': 168}. Best is trial 0 with value: 0.8663487120198916.\n",
      "[I 2024-04-12 16:01:35,638] Trial 7 finished with value: 0.8663487120198916 and parameters: {'num_leaves': 116}. Best is trial 0 with value: 0.8663487120198916.\n",
      "[I 2024-04-12 16:01:36,180] Trial 8 finished with value: 0.8663487120198916 and parameters: {'num_leaves': 230}. Best is trial 0 with value: 0.8663487120198916.\n",
      "[I 2024-04-12 16:01:36,792] Trial 9 finished with value: 0.8663487120198916 and parameters: {'num_leaves': 247}. Best is trial 0 with value: 0.8663487120198916.\n",
      "[I 2024-04-12 16:01:36,801] A new study created in memory with name: no-name-4d431cd1-6f7a-4cfd-a85f-c88d12d74f73\n"
     ]
    },
    {
     "name": "stdout",
     "output_type": "stream",
     "text": [
      "best params: {'verbosity': -1, 'objective': 'binary', 'is_unbalance': True, 'n_estimators': 100, 'learning_rate': 0.044303752452182654, 'num_leaves': 31}, best score: 0.8663487120198916\n",
      "optimizing group: ['feature_fraction']\n"
     ]
    },
    {
     "name": "stderr",
     "output_type": "stream",
     "text": [
      "[I 2024-04-12 16:01:37,346] Trial 0 finished with value: 0.8663487120198916 and parameters: {'feature_fraction': 1.0}. Best is trial 0 with value: 0.8663487120198916.\n",
      "[I 2024-04-12 16:01:37,812] Trial 1 finished with value: 0.8665762442700545 and parameters: {'feature_fraction': 0.7292881023563949}. Best is trial 1 with value: 0.8665762442700545.\n",
      "[I 2024-04-12 16:01:38,375] Trial 2 finished with value: 0.8644241844759806 and parameters: {'feature_fraction': 0.8291136198234517}. Best is trial 1 with value: 0.8665762442700545.\n",
      "[I 2024-04-12 16:01:38,826] Trial 3 finished with value: 0.8644241844759806 and parameters: {'feature_fraction': 0.7616580256429863}. Best is trial 1 with value: 0.8665762442700545.\n",
      "[I 2024-04-12 16:01:39,316] Trial 4 finished with value: 0.8665762442700545 and parameters: {'feature_fraction': 0.7269299097981381}. Best is trial 1 with value: 0.8665762442700545.\n",
      "[I 2024-04-12 16:01:39,805] Trial 5 finished with value: 0.8665762442700545 and parameters: {'feature_fraction': 0.6541928796033428}. Best is trial 1 with value: 0.8665762442700545.\n",
      "[I 2024-04-12 16:01:40,253] Trial 6 finished with value: 0.8644241844759806 and parameters: {'feature_fraction': 0.7875364678399936}. Best is trial 1 with value: 0.8665762442700545.\n",
      "[I 2024-04-12 16:01:40,687] Trial 7 finished with value: 0.8665762442700545 and parameters: {'feature_fraction': 0.6625523267576154}. Best is trial 1 with value: 0.8665762442700545.\n",
      "[I 2024-04-12 16:01:41,131] Trial 8 finished with value: 0.8663487120198916 and parameters: {'feature_fraction': 0.9350638004692479}. Best is trial 1 with value: 0.8665762442700545.\n",
      "[I 2024-04-12 16:01:41,569] Trial 9 finished with value: 0.8663487120198916 and parameters: {'feature_fraction': 0.9781976563006176}. Best is trial 1 with value: 0.8665762442700545.\n",
      "[I 2024-04-12 16:01:41,577] A new study created in memory with name: no-name-80485bea-66b2-40c0-acbd-aa8d76929c6b\n"
     ]
    },
    {
     "name": "stdout",
     "output_type": "stream",
     "text": [
      "best params: {'verbosity': -1, 'objective': 'binary', 'is_unbalance': True, 'n_estimators': 100, 'learning_rate': 0.044303752452182654, 'num_leaves': 31, 'feature_fraction': 0.7292881023563949}, best score: 0.8665762442700545\n",
      "optimizing group: ['bagging_fraction']\n"
     ]
    },
    {
     "name": "stderr",
     "output_type": "stream",
     "text": [
      "[I 2024-04-12 16:01:42,051] Trial 0 finished with value: 0.8665762442700545 and parameters: {'bagging_fraction': 1.0}. Best is trial 0 with value: 0.8665762442700545.\n",
      "[I 2024-04-12 16:01:42,481] Trial 1 finished with value: 0.8665762442700545 and parameters: {'bagging_fraction': 0.7292881023563949}. Best is trial 0 with value: 0.8665762442700545.\n",
      "[I 2024-04-12 16:01:42,948] Trial 2 finished with value: 0.8665762442700545 and parameters: {'bagging_fraction': 0.8291136198234517}. Best is trial 0 with value: 0.8665762442700545.\n",
      "[I 2024-04-12 16:01:43,458] Trial 3 finished with value: 0.8665762442700545 and parameters: {'bagging_fraction': 0.7616580256429863}. Best is trial 0 with value: 0.8665762442700545.\n",
      "[I 2024-04-12 16:01:43,969] Trial 4 finished with value: 0.8665762442700545 and parameters: {'bagging_fraction': 0.7269299097981381}. Best is trial 0 with value: 0.8665762442700545.\n",
      "[I 2024-04-12 16:01:44,407] Trial 5 finished with value: 0.8665762442700545 and parameters: {'bagging_fraction': 0.6541928796033428}. Best is trial 0 with value: 0.8665762442700545.\n",
      "[I 2024-04-12 16:01:44,844] Trial 6 finished with value: 0.8665762442700545 and parameters: {'bagging_fraction': 0.7875364678399936}. Best is trial 0 with value: 0.8665762442700545.\n",
      "[I 2024-04-12 16:01:45,289] Trial 7 finished with value: 0.8665762442700545 and parameters: {'bagging_fraction': 0.6625523267576154}. Best is trial 0 with value: 0.8665762442700545.\n",
      "[I 2024-04-12 16:01:45,684] Trial 8 finished with value: 0.8665762442700545 and parameters: {'bagging_fraction': 0.9350638004692479}. Best is trial 0 with value: 0.8665762442700545.\n",
      "[I 2024-04-12 16:01:46,129] Trial 9 finished with value: 0.8665762442700545 and parameters: {'bagging_fraction': 0.9781976563006176}. Best is trial 0 with value: 0.8665762442700545.\n",
      "[I 2024-04-12 16:01:46,143] A new study created in memory with name: no-name-f97605a5-d3ff-4585-a39a-9b282cd76e40\n",
      "c:\\Users\\PendragonS\\Miniconda3\\envs\\general-ml\\Lib\\site-packages\\optuna\\trial\\_trial.py:650: UserWarning: Fixed parameter 'bagging_freq' with value 0 is out of range for distribution IntDistribution(high=7, log=False, low=1, step=1).\n",
      "  warnings.warn(\n"
     ]
    },
    {
     "name": "stdout",
     "output_type": "stream",
     "text": [
      "best params: {'verbosity': -1, 'objective': 'binary', 'is_unbalance': True, 'n_estimators': 100, 'learning_rate': 0.044303752452182654, 'num_leaves': 31, 'feature_fraction': 0.7292881023563949, 'bagging_fraction': 1.0}, best score: 0.8665762442700545\n",
      "optimizing group: ['bagging_freq']\n"
     ]
    },
    {
     "name": "stderr",
     "output_type": "stream",
     "text": [
      "[I 2024-04-12 16:01:46,578] Trial 0 finished with value: 0.8665762442700545 and parameters: {'bagging_freq': 0}. Best is trial 0 with value: 0.8665762442700545.\n",
      "[I 2024-04-12 16:01:47,002] Trial 1 finished with value: 0.8665762442700545 and parameters: {'bagging_freq': 4}. Best is trial 0 with value: 0.8665762442700545.\n",
      "[I 2024-04-12 16:01:47,830] Trial 2 finished with value: 0.8665762442700545 and parameters: {'bagging_freq': 6}. Best is trial 0 with value: 0.8665762442700545.\n",
      "[I 2024-04-12 16:01:49,640] Trial 3 finished with value: 0.8665762442700545 and parameters: {'bagging_freq': 5}. Best is trial 0 with value: 0.8665762442700545.\n",
      "[I 2024-04-12 16:01:50,086] Trial 4 finished with value: 0.8665762442700545 and parameters: {'bagging_freq': 4}. Best is trial 0 with value: 0.8665762442700545.\n",
      "[I 2024-04-12 16:01:50,500] Trial 5 finished with value: 0.8665762442700545 and parameters: {'bagging_freq': 3}. Best is trial 0 with value: 0.8665762442700545.\n",
      "[I 2024-04-12 16:01:50,944] Trial 6 finished with value: 0.8665762442700545 and parameters: {'bagging_freq': 5}. Best is trial 0 with value: 0.8665762442700545.\n",
      "[I 2024-04-12 16:01:51,419] Trial 7 finished with value: 0.8665762442700545 and parameters: {'bagging_freq': 4}. Best is trial 0 with value: 0.8665762442700545.\n",
      "[I 2024-04-12 16:01:51,886] Trial 8 finished with value: 0.8665762442700545 and parameters: {'bagging_freq': 7}. Best is trial 0 with value: 0.8665762442700545.\n",
      "[I 2024-04-12 16:01:52,318] Trial 9 finished with value: 0.8665762442700545 and parameters: {'bagging_freq': 7}. Best is trial 0 with value: 0.8665762442700545.\n",
      "[I 2024-04-12 16:01:52,325] A new study created in memory with name: no-name-8530cc4d-da1a-47e4-9baf-465505cb81bd\n"
     ]
    },
    {
     "name": "stdout",
     "output_type": "stream",
     "text": [
      "best params: {'verbosity': -1, 'objective': 'binary', 'is_unbalance': True, 'n_estimators': 100, 'learning_rate': 0.044303752452182654, 'num_leaves': 31, 'feature_fraction': 0.7292881023563949, 'bagging_fraction': 1.0, 'bagging_freq': 0}, best score: 0.8665762442700545\n",
      "optimizing group: ['min_child_samples']\n"
     ]
    },
    {
     "name": "stderr",
     "output_type": "stream",
     "text": [
      "[I 2024-04-12 16:01:52,885] Trial 0 finished with value: 0.8665762442700545 and parameters: {'min_child_samples': 20}. Best is trial 0 with value: 0.8665762442700545.\n",
      "[I 2024-04-12 16:01:53,204] Trial 1 finished with value: 0.860656989306946 and parameters: {'min_child_samples': 57}. Best is trial 0 with value: 0.8665762442700545.\n",
      "[I 2024-04-12 16:01:53,508] Trial 2 finished with value: 0.8548377306465248 and parameters: {'min_child_samples': 73}. Best is trial 0 with value: 0.8665762442700545.\n",
      "[I 2024-04-12 16:01:53,867] Trial 3 finished with value: 0.8599729865112089 and parameters: {'min_child_samples': 62}. Best is trial 0 with value: 0.8665762442700545.\n",
      "[I 2024-04-12 16:01:54,343] Trial 4 finished with value: 0.860656989306946 and parameters: {'min_child_samples': 57}. Best is trial 0 with value: 0.8665762442700545.\n",
      "[I 2024-04-12 16:01:54,942] Trial 5 finished with value: 0.8608343252084893 and parameters: {'min_child_samples': 45}. Best is trial 0 with value: 0.8665762442700545.\n",
      "[I 2024-04-12 16:01:55,289] Trial 6 finished with value: 0.860049064046694 and parameters: {'min_child_samples': 67}. Best is trial 0 with value: 0.8665762442700545.\n",
      "[I 2024-04-12 16:01:55,641] Trial 7 finished with value: 0.8594937597187767 and parameters: {'min_child_samples': 47}. Best is trial 0 with value: 0.8665762442700545.\n",
      "[I 2024-04-12 16:01:55,887] Trial 8 finished with value: 0.8496338949693086 and parameters: {'min_child_samples': 90}. Best is trial 0 with value: 0.8665762442700545.\n",
      "[I 2024-04-12 16:01:56,185] Trial 9 finished with value: 0.8479291459848254 and parameters: {'min_child_samples': 97}. Best is trial 0 with value: 0.8665762442700545.\n"
     ]
    },
    {
     "name": "stdout",
     "output_type": "stream",
     "text": [
      "best params: {'verbosity': -1, 'objective': 'binary', 'is_unbalance': True, 'n_estimators': 100, 'learning_rate': 0.044303752452182654, 'num_leaves': 31, 'feature_fraction': 0.7292881023563949, 'bagging_fraction': 1.0, 'bagging_freq': 0, 'min_child_samples': 20}, best score: 0.8665762442700545\n"
     ]
    }
   ],
   "source": [
    "best_params, best_value = get_lgbm_optimized_params(\n",
    "    df,\n",
    "    continuous_columns,\n",
    "    ordinal_columns,\n",
    "    date_columns,\n",
    "    target_column,\n",
    "    save_dir,\n",
    "    hyperparams_stepwise_groups=hyperparams_stepwise_groups,\n",
    "    # hyperparams_stepwise_groups=None,\n",
    "    fixed_params=fixed_params,\n",
    "    n_trials=10,\n",
    "    random_state=0\n",
    "    )"
   ]
  },
  {
   "cell_type": "code",
   "execution_count": 12,
   "metadata": {},
   "outputs": [
    {
     "data": {
      "text/plain": [
       "['../runs/test_run/best_model.pkl']"
      ]
     },
     "execution_count": 12,
     "metadata": {},
     "output_type": "execute_result"
    }
   ],
   "source": [
    "X, y = preprocess(df, continuous_columns, ordinal_columns, date_columns, target_column)\n",
    "model = lgbm.LGBMClassifier(**best_params)\n",
    "joblib.dump(model, '../runs/test_run/best_model.pkl')"
   ]
  },
  {
   "cell_type": "code",
   "execution_count": null,
   "metadata": {},
   "outputs": [],
   "source": []
  }
 ],
 "metadata": {
  "kernelspec": {
   "display_name": "general-ml",
   "language": "python",
   "name": "python3"
  },
  "language_info": {
   "codemirror_mode": {
    "name": "ipython",
    "version": 3
   },
   "file_extension": ".py",
   "mimetype": "text/x-python",
   "name": "python",
   "nbconvert_exporter": "python",
   "pygments_lexer": "ipython3",
   "version": "3.12.2"
  }
 },
 "nbformat": 4,
 "nbformat_minor": 2
}
